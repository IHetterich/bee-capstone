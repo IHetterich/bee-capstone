{
 "cells": [
  {
   "cell_type": "code",
   "execution_count": 31,
   "metadata": {},
   "outputs": [],
   "source": [
    "import numpy as np\n",
    "import pandas as pd\n",
    "import matplotlib.pyplot as plt\n",
    "import scipy.stats as stats"
   ]
  },
  {
   "cell_type": "code",
   "execution_count": 3,
   "metadata": {},
   "outputs": [],
   "source": [
    "df_long = pd.read_csv('../data/full.csv')\n",
    "low_states = ['MD', 'NM', 'NV', 'OK', 'SC']\n",
    "df = df_long[~df_long.state.isin(low_states)]"
   ]
  },
  {
   "cell_type": "markdown",
   "metadata": {},
   "source": [
    "Cutting finding lowest year."
   ]
  },
  {
   "cell_type": "code",
   "execution_count": 7,
   "metadata": {},
   "outputs": [
    {
     "data": {
      "text/plain": [
       "year\n",
       "2008    2310000.0\n",
       "2006    2362000.0\n",
       "2005    2375000.0\n",
       "2007    2412000.0\n",
       "2011    2459000.0\n",
       "2009    2465000.0\n",
       "2012    2504000.0\n",
       "2001    2508000.0\n",
       "2004    2517000.0\n",
       "2002    2534000.0\n",
       "2000    2566000.0\n",
       "2003    2570000.0\n",
       "1998    2586000.0\n",
       "1999    2601000.0\n",
       "2013    2607000.0\n",
       "2015    2616000.0\n",
       "2017    2619000.0\n",
       "2010    2659000.0\n",
       "2014    2700000.0\n",
       "2016    2724000.0\n",
       "2018    2751000.0\n",
       "2019    2766000.0\n",
       "Name: numcol, dtype: float64"
      ]
     },
     "execution_count": 7,
     "metadata": {},
     "output_type": "execute_result"
    }
   ],
   "source": [
    "df.groupby('year').sum().sort_values('numcol')['numcol']"
   ]
  },
  {
   "cell_type": "code",
   "execution_count": 8,
   "metadata": {},
   "outputs": [
    {
     "data": {
      "text/plain": [
       "year\n",
       "2008    59230.769231\n",
       "2006    60564.102564\n",
       "2005    60897.435897\n",
       "2007    61846.153846\n",
       "2011    63051.282051\n",
       "2009    63205.128205\n",
       "2012    64205.128205\n",
       "2001    64307.692308\n",
       "2004    64538.461538\n",
       "2002    64974.358974\n",
       "2000    65794.871795\n",
       "2003    65897.435897\n",
       "1998    66307.692308\n",
       "1999    66692.307692\n",
       "2013    66846.153846\n",
       "2015    67076.923077\n",
       "2017    67153.846154\n",
       "2010    68179.487179\n",
       "2014    69230.769231\n",
       "2016    69846.153846\n",
       "2018    70538.461538\n",
       "2019    70923.076923\n",
       "Name: numcol, dtype: float64"
      ]
     },
     "execution_count": 8,
     "metadata": {},
     "output_type": "execute_result"
    }
   ],
   "source": [
    "df.groupby('year').mean().sort_values('numcol')['numcol']"
   ]
  },
  {
   "cell_type": "code",
   "execution_count": 12,
   "metadata": {},
   "outputs": [
    {
     "data": {
      "text/plain": [
       "array([  9000.,  25000.,  28000., 360000.,  27000., 150000.,  65000.,\n",
       "        10000.,  90000.,   8000.,   7000.,  24000.,  10000.,   4000.,\n",
       "        40000.,   7000.,  71000., 122000.,  14000.,  11000., 134000.,\n",
       "        36000.,   9000.,  50000.,  12000., 400000.,  14000.,  50000.,\n",
       "        23000., 225000.,   7000.,  77000.,  28000.,   5000.,   6000.,\n",
       "        49000.,   6000.,  58000.,  39000.])"
      ]
     },
     "execution_count": 12,
     "metadata": {},
     "output_type": "execute_result"
    }
   ],
   "source": [
    "lowest = df[df['year'] == 2008]['numcol'].to_numpy()\n",
    "lowest"
   ]
  },
  {
   "cell_type": "code",
   "execution_count": 19,
   "metadata": {},
   "outputs": [],
   "source": [
    "def bootstrap_mean(data, samples=10**4):\n",
    "    bootstrap = []\n",
    "    for i in range(samples):\n",
    "        sample = np.random.choice(data, size=len(data), replace=True)\n",
    "        bootstrap.append(np.mean(sample))\n",
    "    return bootstrap"
   ]
  },
  {
   "cell_type": "code",
   "execution_count": 44,
   "metadata": {},
   "outputs": [
    {
     "name": "stdout",
     "output_type": "stream",
     "text": [
      "59331.59230769231 14047.29308178046\n"
     ]
    }
   ],
   "source": [
    "means = bootstrap_mean(data=lowest)\n",
    "mean = np.mean(means)\n",
    "std = np.std(means)\n",
    "print(mean, std)"
   ]
  },
  {
   "cell_type": "code",
   "execution_count": 35,
   "metadata": {},
   "outputs": [
    {
     "data": {
      "image/png": "[encoded data removed]",
      "text/plain": [
       "<Figure size 432x288 with 1 Axes>"
      ]
     },
     "metadata": {
      "needs_background": "light"
     },
     "output_type": "display_data"
    }
   ],
   "source": [
    "fig, ax = plt.subplots()\n",
    "ax.hist(np.sort(lowest), bins=40);"
   ]
  },
  {
   "cell_type": "code",
   "execution_count": 46,
   "metadata": {},
   "outputs": [
    {
     "name": "stdout",
     "output_type": "stream",
     "text": [
      "[  4000.   5000.   6000.   6000.   7000.   7000.   7000.   8000.   9000.\n",
      "   9000.  10000.  10000.  11000.  12000.  14000.  14000.  23000.  24000.\n",
      "  25000.  27000.  28000.  28000.  36000.  39000.  40000.  49000.  50000.\n",
      "  50000.  58000.  65000.  71000.  77000.  90000. 122000. 134000. 150000.\n",
      " 225000.]\n",
      "59331.59230769231 14047.29308178046\n"
     ]
    }
   ],
   "source": [
    "no_out = lowest[lowest < 300000]\n",
    "print(no_out)\n",
    "low_means = bootstrap_mean(data=no_out)\n",
    "low_mean = np.mean(means)\n",
    "low_std = np.std(means)\n",
    "print(low_mean, low_std)"
   ]
  },
  {
   "cell_type": "markdown",
   "metadata": {},
   "source": [
    "Looks like I forgot that if you're bootstrapping 10k samples your two outlier datapoints are going to be minimized in their effects! So nothing to worry about or justify there. Besides you know, the fact that I thought this in the first place and was flirting with data manipulation."
   ]
  },
  {
   "cell_type": "code",
   "execution_count": 66,
   "metadata": {},
   "outputs": [
    {
     "data": {
      "image/png": "[encoded data removed]",
      "text/plain": [
       "<Figure size 432x288 with 1 Axes>"
      ]
     },
     "metadata": {
      "needs_background": "light"
     },
     "output_type": "display_data"
    }
   ],
   "source": [
    "low_dist = stats.norm(loc=mean, scale = std)\n",
    "alpha = low_dist.ppf(.95)\n",
    "fig, ax = plt.subplots()\n",
    "x_range = np.linspace(mean-std*4, mean+std*4, 250)\n",
    "ax.plot(x_range, low_dist.pdf(x_range))\n",
    "ax.axvline(alpha, linestyle='--', color='r');"
   ]
  },
  {
   "cell_type": "code",
   "execution_count": 79,
   "metadata": {},
   "outputs": [
    {
     "data": {
      "text/plain": [
       "array([  7000.,  23000.,  20000., 335000.,  32000., 205000., 102000.,\n",
       "        16000.,  92000.,  11000.,   9000.,  38000.,   7000.,   6000.,\n",
       "        54000.,  15000.,  94000., 118000.,  22000.,  10000., 173000.,\n",
       "        39000.,  15000.,  59000.,  14000., 520000.,  15000.,  87000.,\n",
       "        19000., 270000.,   8000., 126000.,  22000.,   6000.,   5000.,\n",
       "        81000.,   6000.,  46000.,  39000.])"
      ]
     },
     "execution_count": 79,
     "metadata": {},
     "output_type": "execute_result"
    }
   ],
   "source": [
    "recent = df[df['year'] == 2019]['numcol'].to_numpy()\n",
    "recent"
   ]
  },
  {
   "cell_type": "code",
   "execution_count": 80,
   "metadata": {},
   "outputs": [
    {
     "name": "stdout",
     "output_type": "stream",
     "text": [
      "70965.63846153846 16394.090659992118\n"
     ]
    }
   ],
   "source": [
    "recent_means = bootstrap_mean(data=recent)\n",
    "recent_mean = np.mean(recent_means)\n",
    "recent_std = np.std(recent_means)\n",
    "print(recent_mean, recent_std)"
   ]
  },
  {
   "cell_type": "code",
   "execution_count": 82,
   "metadata": {},
   "outputs": [
    {
     "data": {
      "text/plain": [
       "0.2037770493968516"
      ]
     },
     "execution_count": 82,
     "metadata": {},
     "output_type": "execute_result"
    }
   ],
   "source": [
    "p = 1 - low_dist.cdf(recent_mean)\n",
    "p"
   ]
  },
  {
   "cell_type": "code",
   "execution_count": null,
   "metadata": {},
   "outputs": [],
   "source": []
  }
 ],
 "metadata": {
  "kernelspec": {
   "display_name": "Python 3",
   "language": "python",
   "name": "python3"
  },
  "language_info": {
   "codemirror_mode": {
    "name": "ipython",
    "version": 3
   },
   "file_extension": ".py",
   "mimetype": "text/x-python",
   "name": "python",
   "nbconvert_exporter": "python",
   "pygments_lexer": "ipython3",
   "version": "3.8.2"
  }
 },
 "nbformat": 4,
 "nbformat_minor": 4
}
